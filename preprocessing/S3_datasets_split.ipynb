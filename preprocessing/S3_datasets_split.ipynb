{
 "cells": [
  {
   "cell_type": "code",
   "execution_count": 1,
   "metadata": {},
   "outputs": [],
   "source": [
    "import os\n",
    "import json\n",
    "import random\n",
    "from sklearn.model_selection import train_test_split"
   ]
  },
  {
   "cell_type": "code",
   "execution_count": 2,
   "metadata": {},
   "outputs": [],
   "source": [
    "def load_data_from_directory(directory):\n",
    "    \"\"\"\n",
    "    从指定目录加载每本书的数据，并返回书名与对应内容的映射。\n",
    "    \"\"\"\n",
    "    book_data = {}\n",
    "    for filename in os.listdir(directory):\n",
    "        if filename.endswith('.json'):\n",
    "            filepath = os.path.join(directory, filename)\n",
    "            with open(filepath, 'r', encoding='utf-8') as f:\n",
    "                data = json.load(f)\n",
    "                book_data[filename] = data\n",
    "    return book_data"
   ]
  },
  {
   "cell_type": "code",
   "execution_count": 3,
   "metadata": {},
   "outputs": [],
   "source": [
    "def split_books_by_ratio(book_data, train_ratio=0.8, val_ratio=0.1, test_ratio=0.1):\n",
    "    \"\"\"\n",
    "    按照给定比例划分书籍。\n",
    "    \"\"\"\n",
    "    # 打乱书名顺序以保证随机性\n",
    "    book_names = list(book_data.keys())\n",
    "    random.shuffle(book_names)\n",
    "\n",
    "    # 累计每个集合的条目数量\n",
    "    total_entries = sum(len(entries) for entries in book_data.values())\n",
    "    target_train_size = int(total_entries * train_ratio)\n",
    "    target_val_size = int(total_entries * val_ratio)\n",
    "    target_test_size = total_entries - target_train_size - target_val_size\n",
    "\n",
    "    train_books, val_books, test_books = [], [], []\n",
    "    train_count, val_count, test_count = 0, 0, 0\n",
    "\n",
    "    # 分配书籍到集合\n",
    "    for book in book_names:\n",
    "        book_size = len(book_data[book])\n",
    "\n",
    "        if train_count + book_size <= target_train_size:\n",
    "            train_books.append(book)\n",
    "            train_count += book_size\n",
    "        elif val_count + book_size <= target_val_size:\n",
    "            val_books.append(book)\n",
    "            val_count += book_size\n",
    "        else:\n",
    "            test_books.append(book)\n",
    "            test_count += book_size\n",
    "\n",
    "    print(f\"Train set: {train_count} entries\")\n",
    "    print(f\"Validation set: {val_count} entries\")\n",
    "    print(f\"Test set: {test_count} entries\")\n",
    "\n",
    "    return train_books, val_books, test_books"
   ]
  },
  {
   "cell_type": "code",
   "execution_count": 4,
   "metadata": {},
   "outputs": [],
   "source": [
    "def merge_data(book_data, book_list):\n",
    "    \"\"\"\n",
    "    根据书名列表合并书籍内容。\n",
    "    \"\"\"\n",
    "    merged_data = []\n",
    "    for book in book_list:\n",
    "        merged_data.extend(book_data[book])\n",
    "    return merged_data\n",
    "\n",
    "def save_data(data, output_path):\n",
    "    \"\"\"\n",
    "    将数据保存为 JSON 文件。\n",
    "    \"\"\"\n",
    "    with open(output_path, 'w', encoding='utf-8') as f:\n",
    "        json.dump(data, f, ensure_ascii=False, indent=4)\n"
   ]
  },
  {
   "cell_type": "code",
   "execution_count": 5,
   "metadata": {},
   "outputs": [
    {
     "name": "stdout",
     "output_type": "stream",
     "text": [
      "Loading data...\n",
      "Splitting books...\n",
      "Train set: 21453 entries\n",
      "Validation set: 1826 entries\n",
      "Test set: 3734 entries\n",
      "Data processing complete!\n"
     ]
    }
   ],
   "source": [
    "def main(input_dir, output_dir):\n",
    "    \"\"\"\n",
    "    主程序：加载数据、划分数据集并保存结果。\n",
    "    \"\"\"\n",
    "    os.makedirs(output_dir, exist_ok=True)\n",
    "\n",
    "    # 加载书籍数据\n",
    "    print(\"Loading data...\")\n",
    "    book_data = load_data_from_directory(input_dir)\n",
    "\n",
    "    # 按比例划分书籍\n",
    "    print(\"Splitting books...\")\n",
    "    train_books, val_books, test_books = split_books_by_ratio(book_data)\n",
    "\n",
    "    # 合并每个集合的数据\n",
    "    train_data = merge_data(book_data, train_books)\n",
    "    val_data = merge_data(book_data, val_books)\n",
    "    test_data = merge_data(book_data, test_books)\n",
    "\n",
    "    # 保存数据集\n",
    "    save_data(train_data, os.path.join(output_dir, 'train_raw.json'))\n",
    "    save_data(val_data, os.path.join(output_dir, 'val_raw.json'))\n",
    "    save_data(test_data, os.path.join(output_dir, 'test_raw.json'))\n",
    "\n",
    "    print(\"Data processing complete!\")\n",
    "\n",
    "# 示例路径配置\n",
    "input_dir = \"C:/Users/Lenovo/OneDrive/NUS/CS-24fall/project/AudiobookGeneration_cs5647/LiteraryTextsDataset/target_extracted_data\"\n",
    "output_dir = \"C:/Users/Lenovo/OneDrive/NUS/CS-24fall/project/AudiobookGeneration_cs5647/LiteraryTextsDataset/dataset\"\n",
    "\n",
    "# 运行主程序\n",
    "main(input_dir, output_dir)"
   ]
  },
  {
   "cell_type": "code",
   "execution_count": null,
   "metadata": {},
   "outputs": [],
   "source": []
  }
 ],
 "metadata": {
  "kernelspec": {
   "display_name": "base",
   "language": "python",
   "name": "python3"
  },
  "language_info": {
   "codemirror_mode": {
    "name": "ipython",
    "version": 3
   },
   "file_extension": ".py",
   "mimetype": "text/x-python",
   "name": "python",
   "nbconvert_exporter": "python",
   "pygments_lexer": "ipython3",
   "version": "3.11.5"
  }
 },
 "nbformat": 4,
 "nbformat_minor": 2
}
