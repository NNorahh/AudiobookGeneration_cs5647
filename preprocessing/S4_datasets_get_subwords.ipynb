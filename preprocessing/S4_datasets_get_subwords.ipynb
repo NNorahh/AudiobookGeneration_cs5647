{
 "cells": [
  {
   "cell_type": "code",
   "execution_count": 1,
   "metadata": {},
   "outputs": [],
   "source": [
    "import json\n",
    "from transformers import BertTokenizerFast\n",
    "import os\n",
    "from tqdm import tqdm"
   ]
  },
  {
   "cell_type": "code",
   "execution_count": 6,
   "metadata": {},
   "outputs": [],
   "source": [
    "# Initialize the tokenizer\n",
    "tokenizer = BertTokenizerFast.from_pretrained('bert-base-cased')\n",
    "\n",
    "def preprocess_dataset(input_path, output_dir, is_train=False):\n",
    "    with open(input_path, 'r', encoding='utf-8') as f:\n",
    "        data = json.load(f)\n",
    "\n",
    "    processed_data = []\n",
    "    chunk_count = 0  # Track the number of chunks\n",
    "\n",
    "    for i, entry in enumerate(tqdm(data, desc=\"Processing data\")):\n",
    "        context = entry['context']\n",
    "        target_dialogue = entry['target_dialogue']\n",
    "        speaker_positions = entry['speaker_position']\n",
    "\n",
    "        # Tokenize and get offset mappings\n",
    "        encoding = tokenizer(\n",
    "            context,\n",
    "            truncation=True,\n",
    "            max_length=512,\n",
    "            padding='max_length',\n",
    "            return_offsets_mapping=True\n",
    "        )\n",
    "\n",
    "        input_ids = encoding['input_ids']\n",
    "        attention_mask = encoding['attention_mask']\n",
    "        offsets = encoding['offset_mapping']\n",
    "        tokens = tokenizer.convert_ids_to_tokens(input_ids)\n",
    "\n",
    "        # Align target dialogue with token indices\n",
    "        target_start_char, target_end_char = target_dialogue\n",
    "        target_token_indices = [\n",
    "            j for j, (start, end) in enumerate(offsets)\n",
    "            if start >= target_start_char and end <= target_end_char\n",
    "        ]\n",
    "        target_indices = [target_token_indices[0], target_token_indices[-1]] if target_token_indices else [0, 0]\n",
    "\n",
    "        # Align speaker positions with token indices\n",
    "        speaker_indices = [\n",
    "            [\n",
    "                j for j, (start, end) in enumerate(offsets)\n",
    "                if (start >= sp_start and end <= sp_end)\n",
    "            ]\n",
    "            for sp_start, sp_end in speaker_positions\n",
    "        ]\n",
    "        valid_speaker_indices = [\n",
    "            [idx[0], idx[-1]] for idx in speaker_indices if idx and (idx[-1] - idx[0]) < 20\n",
    "        ]\n",
    "        if not valid_speaker_indices:\n",
    "            print(\"empty valid_speaker_indices\")\n",
    "            continue\n",
    "        target_tokens = tokens[target_indices[0]:target_indices[1] + 1]\n",
    "        speaker_tokens = [\n",
    "            tokens[start:end + 1] for (start, end) in valid_speaker_indices\n",
    "        ]\n",
    "        # Store the preprocessed entry\n",
    "        processed_data.append({\n",
    "            'input_ids': input_ids,\n",
    "            'attention_mask': attention_mask,\n",
    "            'target_indices': target_indices,\n",
    "            'target_tokens': target_tokens,\n",
    "            'speaker_indices': valid_speaker_indices,\n",
    "            'speaker_tokens': speaker_tokens\n",
    "        })\n",
    "        # If is_train is True, save every 2048 entries as a chunk\n",
    "        if is_train and len(processed_data) >= 2048:\n",
    "            chunk_path = os.path.join(output_dir, f\"chunk_{chunk_count}.json\")\n",
    "            with open(chunk_path, 'w', encoding='utf-8') as f:\n",
    "                json.dump(processed_data, f, ensure_ascii=False, indent=4)\n",
    "            print(f\"Saved chunk {chunk_count} with 2048 entries to {chunk_path}\")\n",
    "            processed_data = []  # Reset for the next chunk\n",
    "            chunk_count += 1\n",
    "    # Save the preprocessed dataset\n",
    "    if processed_data:\n",
    "        if is_train:\n",
    "            chunk_path = os.path.join(output_dir, f\"chunk_{chunk_count}.json\")\n",
    "            with open(chunk_path, 'w', encoding='utf-8') as f:\n",
    "                json.dump(processed_data, f, ensure_ascii=False, indent=4)\n",
    "            print(f\"Saved final chunk {chunk_count} to {chunk_path}\")\n",
    "        else:\n",
    "            output_path = os.path.join(output_dir, os.path.basename(input_path).replace('processed_', ''))\n",
    "            with open(output_path, 'w', encoding='utf-8') as f:\n",
    "                json.dump(processed_data, f, ensure_ascii=False, indent=4)\n",
    "            print(f\"Saved processed data to {output_path}\")"
   ]
  },
  {
   "cell_type": "code",
   "execution_count": 9,
   "metadata": {},
   "outputs": [
    {
     "name": "stderr",
     "output_type": "stream",
     "text": [
      "Processing data:   2%|▏         | 445/21226 [00:00<00:31, 663.23it/s]"
     ]
    },
    {
     "name": "stdout",
     "output_type": "stream",
     "text": [
      "empty valid_speaker_indices\n",
      "empty valid_speaker_indices\n"
     ]
    },
    {
     "name": "stderr",
     "output_type": "stream",
     "text": [
      "Processing data:   7%|▋         | 1444/21226 [00:02<00:27, 732.24it/s]"
     ]
    },
    {
     "name": "stdout",
     "output_type": "stream",
     "text": [
      "empty valid_speaker_indices\n"
     ]
    },
    {
     "name": "stderr",
     "output_type": "stream",
     "text": [
      "Processing data:   8%|▊         | 1676/21226 [00:02<00:27, 702.69it/s]"
     ]
    },
    {
     "name": "stdout",
     "output_type": "stream",
     "text": [
      "empty valid_speaker_indices\n",
      "empty valid_speaker_indices\n",
      "empty valid_speaker_indices\n"
     ]
    },
    {
     "name": "stderr",
     "output_type": "stream",
     "text": [
      "Processing data:   9%|▉         | 1892/21226 [00:02<00:28, 684.00it/s]"
     ]
    },
    {
     "name": "stdout",
     "output_type": "stream",
     "text": [
      "empty valid_speaker_indices\n",
      "empty valid_speaker_indices\n",
      "empty valid_speaker_indices\n",
      "empty valid_speaker_indices\n",
      "empty valid_speaker_indices\n",
      "empty valid_speaker_indices\n",
      "empty valid_speaker_indices\n",
      "empty valid_speaker_indices\n"
     ]
    },
    {
     "name": "stderr",
     "output_type": "stream",
     "text": [
      "Processing data:  10%|█         | 2163/21226 [00:04<01:52, 169.60it/s]"
     ]
    },
    {
     "name": "stdout",
     "output_type": "stream",
     "text": [
      "Saved chunk 0 with 2048 entries to C:\\Users\\Lenovo\\OneDrive\\NUS\\CS-24fall\\project\\AudiobookGeneration_cs5647\\Dataset_SID_001\\train\\chunk_0.json\n"
     ]
    },
    {
     "name": "stderr",
     "output_type": "stream",
     "text": [
      "Processing data:  12%|█▏        | 2515/21226 [00:05<00:40, 458.09it/s]"
     ]
    },
    {
     "name": "stdout",
     "output_type": "stream",
     "text": [
      "empty valid_speaker_indices\n"
     ]
    },
    {
     "name": "stderr",
     "output_type": "stream",
     "text": [
      "Processing data:  15%|█▌        | 3199/21226 [00:06<00:26, 674.15it/s]"
     ]
    },
    {
     "name": "stdout",
     "output_type": "stream",
     "text": [
      "empty valid_speaker_indices\n"
     ]
    },
    {
     "name": "stderr",
     "output_type": "stream",
     "text": [
      "Processing data:  15%|█▌        | 3269/21226 [00:06<00:26, 681.27it/s]"
     ]
    },
    {
     "name": "stdout",
     "output_type": "stream",
     "text": [
      "empty valid_speaker_indices\n"
     ]
    },
    {
     "name": "stderr",
     "output_type": "stream",
     "text": [
      "Processing data:  17%|█▋        | 3513/21226 [00:06<00:34, 517.87it/s]"
     ]
    },
    {
     "name": "stdout",
     "output_type": "stream",
     "text": [
      "empty valid_speaker_indices\n",
      "empty valid_speaker_indices\n"
     ]
    },
    {
     "name": "stderr",
     "output_type": "stream",
     "text": [
      "Processing data:  19%|█▉        | 4010/21226 [00:07<00:23, 718.27it/s]"
     ]
    },
    {
     "name": "stdout",
     "output_type": "stream",
     "text": [
      "empty valid_speaker_indices\n",
      "empty valid_speaker_indices\n"
     ]
    },
    {
     "name": "stderr",
     "output_type": "stream",
     "text": [
      "Processing data:  20%|█▉        | 4221/21226 [00:09<01:35, 177.90it/s]"
     ]
    },
    {
     "name": "stdout",
     "output_type": "stream",
     "text": [
      "Saved chunk 1 with 2048 entries to C:\\Users\\Lenovo\\OneDrive\\NUS\\CS-24fall\\project\\AudiobookGeneration_cs5647\\Dataset_SID_001\\train\\chunk_1.json\n"
     ]
    },
    {
     "name": "stderr",
     "output_type": "stream",
     "text": [
      "Processing data:  22%|██▏       | 4674/21226 [00:09<00:29, 552.83it/s]"
     ]
    },
    {
     "name": "stdout",
     "output_type": "stream",
     "text": [
      "empty valid_speaker_indices\n"
     ]
    },
    {
     "name": "stderr",
     "output_type": "stream",
     "text": [
      "Processing data:  23%|██▎       | 4833/21226 [00:10<00:24, 659.96it/s]"
     ]
    },
    {
     "name": "stdout",
     "output_type": "stream",
     "text": [
      "empty valid_speaker_indices\n",
      "empty valid_speaker_indices\n",
      "empty valid_speaker_indices\n",
      "empty valid_speaker_indices\n",
      "empty valid_speaker_indices\n",
      "empty valid_speaker_indices\n"
     ]
    },
    {
     "name": "stderr",
     "output_type": "stream",
     "text": [
      "Processing data:  25%|██▍       | 5217/21226 [00:10<00:22, 720.08it/s]"
     ]
    },
    {
     "name": "stdout",
     "output_type": "stream",
     "text": [
      "empty valid_speaker_indices\n",
      "empty valid_speaker_indices\n"
     ]
    },
    {
     "name": "stderr",
     "output_type": "stream",
     "text": [
      "Processing data:  26%|██▌       | 5441/21226 [00:10<00:21, 727.43it/s]"
     ]
    },
    {
     "name": "stdout",
     "output_type": "stream",
     "text": [
      "empty valid_speaker_indices\n",
      "empty valid_speaker_indices\n",
      "empty valid_speaker_indices\n",
      "empty valid_speaker_indices\n",
      "empty valid_speaker_indices\n",
      "empty valid_speaker_indices\n"
     ]
    },
    {
     "name": "stderr",
     "output_type": "stream",
     "text": [
      "Processing data:  27%|██▋       | 5819/21226 [00:11<00:21, 731.21it/s]"
     ]
    },
    {
     "name": "stdout",
     "output_type": "stream",
     "text": [
      "empty valid_speaker_indices\n",
      "empty valid_speaker_indices\n"
     ]
    },
    {
     "name": "stderr",
     "output_type": "stream",
     "text": [
      "Processing data:  28%|██▊       | 5893/21226 [00:11<00:21, 698.84it/s]"
     ]
    },
    {
     "name": "stdout",
     "output_type": "stream",
     "text": [
      "empty valid_speaker_indices\n",
      "empty valid_speaker_indices\n",
      "empty valid_speaker_indices\n"
     ]
    },
    {
     "name": "stderr",
     "output_type": "stream",
     "text": [
      "Processing data:  30%|██▉       | 6323/21226 [00:13<01:22, 180.31it/s]"
     ]
    },
    {
     "name": "stdout",
     "output_type": "stream",
     "text": [
      "Saved chunk 2 with 2048 entries to C:\\Users\\Lenovo\\OneDrive\\NUS\\CS-24fall\\project\\AudiobookGeneration_cs5647\\Dataset_SID_001\\train\\chunk_2.json\n"
     ]
    },
    {
     "name": "stderr",
     "output_type": "stream",
     "text": [
      "Processing data:  33%|███▎      | 7010/21226 [00:14<00:23, 603.80it/s]"
     ]
    },
    {
     "name": "stdout",
     "output_type": "stream",
     "text": [
      "empty valid_speaker_indices\n"
     ]
    },
    {
     "name": "stderr",
     "output_type": "stream",
     "text": [
      "Processing data:  36%|███▌      | 7689/21226 [00:15<00:18, 730.99it/s]"
     ]
    },
    {
     "name": "stdout",
     "output_type": "stream",
     "text": [
      "empty valid_speaker_indices\n"
     ]
    },
    {
     "name": "stderr",
     "output_type": "stream",
     "text": [
      "Processing data:  38%|███▊      | 7987/21226 [00:15<00:18, 708.55it/s]"
     ]
    },
    {
     "name": "stdout",
     "output_type": "stream",
     "text": [
      "empty valid_speaker_indices\n",
      "empty valid_speaker_indices\n",
      "empty valid_speaker_indices\n",
      "empty valid_speaker_indices\n"
     ]
    },
    {
     "name": "stderr",
     "output_type": "stream",
     "text": [
      "Processing data:  39%|███▊      | 8224/21226 [00:16<00:17, 754.95it/s]"
     ]
    },
    {
     "name": "stdout",
     "output_type": "stream",
     "text": [
      "empty valid_speaker_indices\n",
      "empty valid_speaker_indices\n"
     ]
    },
    {
     "name": "stderr",
     "output_type": "stream",
     "text": [
      "Processing data:  39%|███▉      | 8384/21226 [00:17<01:03, 200.95it/s]"
     ]
    },
    {
     "name": "stdout",
     "output_type": "stream",
     "text": [
      "Saved chunk 3 with 2048 entries to C:\\Users\\Lenovo\\OneDrive\\NUS\\CS-24fall\\project\\AudiobookGeneration_cs5647\\Dataset_SID_001\\train\\chunk_3.json\n"
     ]
    },
    {
     "name": "stderr",
     "output_type": "stream",
     "text": [
      "Processing data:  40%|███▉      | 8448/21226 [00:17<00:52, 243.62it/s]"
     ]
    },
    {
     "name": "stdout",
     "output_type": "stream",
     "text": [
      "empty valid_speaker_indices\n"
     ]
    },
    {
     "name": "stderr",
     "output_type": "stream",
     "text": [
      "Processing data:  41%|████▏     | 8762/21226 [00:18<00:24, 511.02it/s]"
     ]
    },
    {
     "name": "stdout",
     "output_type": "stream",
     "text": [
      "empty valid_speaker_indices\n",
      "empty valid_speaker_indices\n",
      "empty valid_speaker_indices\n",
      "empty valid_speaker_indices\n"
     ]
    },
    {
     "name": "stderr",
     "output_type": "stream",
     "text": [
      "Processing data:  43%|████▎     | 9053/21226 [00:18<00:19, 618.47it/s]"
     ]
    },
    {
     "name": "stdout",
     "output_type": "stream",
     "text": [
      "empty valid_speaker_indices\n",
      "empty valid_speaker_indices\n",
      "empty valid_speaker_indices\n",
      "empty valid_speaker_indices\n",
      "empty valid_speaker_indices\n"
     ]
    },
    {
     "name": "stderr",
     "output_type": "stream",
     "text": [
      "Processing data:  45%|████▌     | 9624/21226 [00:19<00:17, 667.85it/s]"
     ]
    },
    {
     "name": "stdout",
     "output_type": "stream",
     "text": [
      "empty valid_speaker_indices\n"
     ]
    },
    {
     "name": "stderr",
     "output_type": "stream",
     "text": [
      "Processing data:  46%|████▋     | 9847/21226 [00:19<00:15, 713.37it/s]"
     ]
    },
    {
     "name": "stdout",
     "output_type": "stream",
     "text": [
      "empty valid_speaker_indices\n",
      "empty valid_speaker_indices\n",
      "empty valid_speaker_indices\n",
      "empty valid_speaker_indices\n"
     ]
    },
    {
     "name": "stderr",
     "output_type": "stream",
     "text": [
      "Processing data:  49%|████▉     | 10357/21226 [00:22<01:21, 133.64it/s]"
     ]
    },
    {
     "name": "stdout",
     "output_type": "stream",
     "text": [
      "Saved chunk 4 with 2048 entries to C:\\Users\\Lenovo\\OneDrive\\NUS\\CS-24fall\\project\\AudiobookGeneration_cs5647\\Dataset_SID_001\\train\\chunk_4.json\n",
      "empty valid_speaker_indices\n"
     ]
    },
    {
     "name": "stderr",
     "output_type": "stream",
     "text": [
      "Processing data:  50%|█████     | 10712/21226 [00:22<00:25, 415.73it/s]"
     ]
    },
    {
     "name": "stdout",
     "output_type": "stream",
     "text": [
      "empty valid_speaker_indices\n",
      "empty valid_speaker_indices\n"
     ]
    },
    {
     "name": "stderr",
     "output_type": "stream",
     "text": [
      "Processing data:  52%|█████▏    | 11030/21226 [00:23<00:15, 662.45it/s]"
     ]
    },
    {
     "name": "stdout",
     "output_type": "stream",
     "text": [
      "empty valid_speaker_indices\n"
     ]
    },
    {
     "name": "stderr",
     "output_type": "stream",
     "text": [
      "Processing data:  53%|█████▎    | 11187/21226 [00:23<00:14, 706.56it/s]"
     ]
    },
    {
     "name": "stdout",
     "output_type": "stream",
     "text": [
      "empty valid_speaker_indices\n",
      "empty valid_speaker_indices\n"
     ]
    },
    {
     "name": "stderr",
     "output_type": "stream",
     "text": [
      "Processing data:  59%|█████▊    | 12468/21226 [00:26<00:54, 161.48it/s]"
     ]
    },
    {
     "name": "stdout",
     "output_type": "stream",
     "text": [
      "Saved chunk 5 with 2048 entries to C:\\Users\\Lenovo\\OneDrive\\NUS\\CS-24fall\\project\\AudiobookGeneration_cs5647\\Dataset_SID_001\\train\\chunk_5.json\n"
     ]
    },
    {
     "name": "stderr",
     "output_type": "stream",
     "text": [
      "Processing data:  61%|██████    | 12910/21226 [00:27<00:16, 513.70it/s]"
     ]
    },
    {
     "name": "stdout",
     "output_type": "stream",
     "text": [
      "empty valid_speaker_indices\n"
     ]
    },
    {
     "name": "stderr",
     "output_type": "stream",
     "text": [
      "Processing data:  64%|██████▍   | 13582/21226 [00:28<00:10, 701.64it/s]"
     ]
    },
    {
     "name": "stdout",
     "output_type": "stream",
     "text": [
      "empty valid_speaker_indices\n"
     ]
    },
    {
     "name": "stderr",
     "output_type": "stream",
     "text": [
      "Processing data:  67%|██████▋   | 14173/21226 [00:29<00:10, 669.74it/s]"
     ]
    },
    {
     "name": "stdout",
     "output_type": "stream",
     "text": [
      "empty valid_speaker_indices\n",
      "empty valid_speaker_indices\n",
      "empty valid_speaker_indices\n"
     ]
    },
    {
     "name": "stderr",
     "output_type": "stream",
     "text": [
      "Processing data:  67%|██████▋   | 14311/21226 [00:29<00:10, 670.70it/s]"
     ]
    },
    {
     "name": "stdout",
     "output_type": "stream",
     "text": [
      "empty valid_speaker_indices\n",
      "empty valid_speaker_indices\n"
     ]
    },
    {
     "name": "stderr",
     "output_type": "stream",
     "text": [
      "Processing data:  68%|██████▊   | 14520/21226 [00:31<00:37, 177.11it/s]"
     ]
    },
    {
     "name": "stdout",
     "output_type": "stream",
     "text": [
      "Saved chunk 6 with 2048 entries to C:\\Users\\Lenovo\\OneDrive\\NUS\\CS-24fall\\project\\AudiobookGeneration_cs5647\\Dataset_SID_001\\train\\chunk_6.json\n"
     ]
    },
    {
     "name": "stderr",
     "output_type": "stream",
     "text": [
      "Processing data:  72%|███████▏  | 15372/21226 [00:32<00:08, 704.87it/s]"
     ]
    },
    {
     "name": "stdout",
     "output_type": "stream",
     "text": [
      "empty valid_speaker_indices\n"
     ]
    },
    {
     "name": "stderr",
     "output_type": "stream",
     "text": [
      "Processing data:  74%|███████▍  | 15731/21226 [00:32<00:08, 655.26it/s]"
     ]
    },
    {
     "name": "stdout",
     "output_type": "stream",
     "text": [
      "empty valid_speaker_indices\n",
      "empty valid_speaker_indices\n"
     ]
    },
    {
     "name": "stderr",
     "output_type": "stream",
     "text": [
      "Processing data:  75%|███████▍  | 15885/21226 [00:33<00:07, 706.19it/s]"
     ]
    },
    {
     "name": "stdout",
     "output_type": "stream",
     "text": [
      "empty valid_speaker_indices\n",
      "empty valid_speaker_indices\n",
      "empty valid_speaker_indices\n",
      "empty valid_speaker_indices\n",
      "empty valid_speaker_indices\n"
     ]
    },
    {
     "name": "stderr",
     "output_type": "stream",
     "text": [
      "Processing data:  76%|███████▌  | 16030/21226 [00:33<00:07, 688.20it/s]"
     ]
    },
    {
     "name": "stdout",
     "output_type": "stream",
     "text": [
      "empty valid_speaker_indices\n"
     ]
    },
    {
     "name": "stderr",
     "output_type": "stream",
     "text": [
      "Processing data:  77%|███████▋  | 16317/21226 [00:33<00:07, 695.04it/s]"
     ]
    },
    {
     "name": "stdout",
     "output_type": "stream",
     "text": [
      "empty valid_speaker_indices\n",
      "empty valid_speaker_indices\n",
      "empty valid_speaker_indices\n"
     ]
    },
    {
     "name": "stderr",
     "output_type": "stream",
     "text": [
      "Processing data:  78%|███████▊  | 16584/21226 [00:35<00:30, 153.77it/s]"
     ]
    },
    {
     "name": "stdout",
     "output_type": "stream",
     "text": [
      "Saved chunk 7 with 2048 entries to C:\\Users\\Lenovo\\OneDrive\\NUS\\CS-24fall\\project\\AudiobookGeneration_cs5647\\Dataset_SID_001\\train\\chunk_7.json\n",
      "empty valid_speaker_indices\n"
     ]
    },
    {
     "name": "stderr",
     "output_type": "stream",
     "text": [
      "Processing data:  80%|████████  | 17064/21226 [00:36<00:07, 552.80it/s]"
     ]
    },
    {
     "name": "stdout",
     "output_type": "stream",
     "text": [
      "empty valid_speaker_indices\n",
      "empty valid_speaker_indices\n"
     ]
    },
    {
     "name": "stderr",
     "output_type": "stream",
     "text": [
      "Processing data:  81%|████████▏ | 17289/21226 [00:36<00:06, 647.45it/s]"
     ]
    },
    {
     "name": "stdout",
     "output_type": "stream",
     "text": [
      "empty valid_speaker_indices\n",
      "empty valid_speaker_indices\n"
     ]
    },
    {
     "name": "stderr",
     "output_type": "stream",
     "text": [
      "Processing data:  82%|████████▏ | 17496/21226 [00:37<00:05, 643.73it/s]"
     ]
    },
    {
     "name": "stdout",
     "output_type": "stream",
     "text": [
      "empty valid_speaker_indices\n"
     ]
    },
    {
     "name": "stderr",
     "output_type": "stream",
     "text": [
      "Processing data:  83%|████████▎ | 17714/21226 [00:37<00:05, 696.59it/s]"
     ]
    },
    {
     "name": "stdout",
     "output_type": "stream",
     "text": [
      "empty valid_speaker_indices\n",
      "empty valid_speaker_indices\n"
     ]
    },
    {
     "name": "stderr",
     "output_type": "stream",
     "text": [
      "Processing data:  86%|████████▌ | 18256/21226 [00:38<00:03, 767.90it/s]"
     ]
    },
    {
     "name": "stdout",
     "output_type": "stream",
     "text": [
      "empty valid_speaker_indices\n",
      "empty valid_speaker_indices\n"
     ]
    },
    {
     "name": "stderr",
     "output_type": "stream",
     "text": [
      "Processing data:  88%|████████▊ | 18632/21226 [00:40<00:14, 182.08it/s]"
     ]
    },
    {
     "name": "stdout",
     "output_type": "stream",
     "text": [
      "Saved chunk 8 with 2048 entries to C:\\Users\\Lenovo\\OneDrive\\NUS\\CS-24fall\\project\\AudiobookGeneration_cs5647\\Dataset_SID_001\\train\\chunk_8.json\n"
     ]
    },
    {
     "name": "stderr",
     "output_type": "stream",
     "text": [
      "Processing data:  91%|█████████ | 19290/21226 [00:40<00:03, 630.86it/s]"
     ]
    },
    {
     "name": "stdout",
     "output_type": "stream",
     "text": [
      "empty valid_speaker_indices\n",
      "empty valid_speaker_indices\n",
      "empty valid_speaker_indices\n",
      "empty valid_speaker_indices\n"
     ]
    },
    {
     "name": "stderr",
     "output_type": "stream",
     "text": [
      "Processing data:  92%|█████████▏| 19584/21226 [00:41<00:02, 677.63it/s]"
     ]
    },
    {
     "name": "stdout",
     "output_type": "stream",
     "text": [
      "empty valid_speaker_indices\n",
      "empty valid_speaker_indices\n"
     ]
    },
    {
     "name": "stderr",
     "output_type": "stream",
     "text": [
      "Processing data:  94%|█████████▍| 19917/21226 [00:41<00:02, 627.79it/s]"
     ]
    },
    {
     "name": "stdout",
     "output_type": "stream",
     "text": [
      "empty valid_speaker_indices\n"
     ]
    },
    {
     "name": "stderr",
     "output_type": "stream",
     "text": [
      "Processing data:  96%|█████████▋| 20471/21226 [00:42<00:01, 670.20it/s]"
     ]
    },
    {
     "name": "stdout",
     "output_type": "stream",
     "text": [
      "empty valid_speaker_indices\n"
     ]
    },
    {
     "name": "stderr",
     "output_type": "stream",
     "text": [
      "Processing data:  97%|█████████▋| 20673/21226 [00:44<00:03, 164.12it/s]"
     ]
    },
    {
     "name": "stdout",
     "output_type": "stream",
     "text": [
      "Saved chunk 9 with 2048 entries to C:\\Users\\Lenovo\\OneDrive\\NUS\\CS-24fall\\project\\AudiobookGeneration_cs5647\\Dataset_SID_001\\train\\chunk_9.json\n",
      "empty valid_speaker_indices\n",
      "empty valid_speaker_indices\n",
      "empty valid_speaker_indices\n",
      "empty valid_speaker_indices\n"
     ]
    },
    {
     "name": "stderr",
     "output_type": "stream",
     "text": [
      "Processing data:  99%|█████████▊| 20948/21226 [00:44<00:00, 394.11it/s]"
     ]
    },
    {
     "name": "stdout",
     "output_type": "stream",
     "text": [
      "empty valid_speaker_indices\n"
     ]
    },
    {
     "name": "stderr",
     "output_type": "stream",
     "text": [
      "Processing data: 100%|█████████▉| 21154/21226 [00:45<00:00, 534.08it/s]"
     ]
    },
    {
     "name": "stdout",
     "output_type": "stream",
     "text": [
      "empty valid_speaker_indices\n",
      "empty valid_speaker_indices\n"
     ]
    },
    {
     "name": "stderr",
     "output_type": "stream",
     "text": [
      "Processing data: 100%|██████████| 21226/21226 [00:45<00:00, 467.83it/s]\n"
     ]
    },
    {
     "name": "stdout",
     "output_type": "stream",
     "text": [
      "empty valid_speaker_indices\n",
      "Saved final chunk 10 to C:\\Users\\Lenovo\\OneDrive\\NUS\\CS-24fall\\project\\AudiobookGeneration_cs5647\\Dataset_SID_001\\train\\chunk_10.json\n"
     ]
    }
   ],
   "source": [
    "\n",
    "input_path = r\"C:\\Users\\Lenovo\\OneDrive\\NUS\\CS-24fall\\project\\AudiobookGeneration_cs5647\\LiteraryTextsDataset\\dataset\\processed_train.json\"\n",
    "output_path = r\"C:\\Users\\Lenovo\\OneDrive\\NUS\\CS-24fall\\project\\AudiobookGeneration_cs5647\\Dataset_SID_001\\train\"\n",
    "preprocess_dataset(input_path, output_path, is_train=True)"
   ]
  },
  {
   "cell_type": "code",
   "execution_count": 10,
   "metadata": {},
   "outputs": [
    {
     "name": "stderr",
     "output_type": "stream",
     "text": [
      "Processing data:  13%|█▎        | 228/1793 [00:00<00:02, 766.45it/s]"
     ]
    },
    {
     "name": "stdout",
     "output_type": "stream",
     "text": [
      "empty valid_speaker_indices\n",
      "empty valid_speaker_indices\n",
      "empty valid_speaker_indices\n"
     ]
    },
    {
     "name": "stderr",
     "output_type": "stream",
     "text": [
      "Processing data:  22%|██▏       | 388/1793 [00:00<00:01, 782.78it/s]"
     ]
    },
    {
     "name": "stdout",
     "output_type": "stream",
     "text": [
      "empty valid_speaker_indices\n"
     ]
    },
    {
     "name": "stderr",
     "output_type": "stream",
     "text": [
      "Processing data:  31%|███       | 555/1793 [00:00<00:01, 805.60it/s]"
     ]
    },
    {
     "name": "stdout",
     "output_type": "stream",
     "text": [
      "empty valid_speaker_indices\n"
     ]
    },
    {
     "name": "stderr",
     "output_type": "stream",
     "text": [
      "Processing data:  49%|████▉     | 884/1793 [00:01<00:01, 802.95it/s]"
     ]
    },
    {
     "name": "stdout",
     "output_type": "stream",
     "text": [
      "empty valid_speaker_indices\n"
     ]
    },
    {
     "name": "stderr",
     "output_type": "stream",
     "text": [
      "Processing data:  63%|██████▎   | 1125/1793 [00:01<00:00, 776.96it/s]"
     ]
    },
    {
     "name": "stdout",
     "output_type": "stream",
     "text": [
      "empty valid_speaker_indices\n",
      "empty valid_speaker_indices\n",
      "empty valid_speaker_indices\n",
      "empty valid_speaker_indices\n"
     ]
    },
    {
     "name": "stderr",
     "output_type": "stream",
     "text": [
      "Processing data:  72%|███████▏  | 1282/1793 [00:01<00:00, 773.08it/s]"
     ]
    },
    {
     "name": "stdout",
     "output_type": "stream",
     "text": [
      "empty valid_speaker_indices\n",
      "empty valid_speaker_indices\n",
      "empty valid_speaker_indices\n"
     ]
    },
    {
     "name": "stderr",
     "output_type": "stream",
     "text": [
      "Processing data:  80%|████████  | 1437/1793 [00:01<00:00, 763.27it/s]"
     ]
    },
    {
     "name": "stdout",
     "output_type": "stream",
     "text": [
      "empty valid_speaker_indices\n"
     ]
    },
    {
     "name": "stderr",
     "output_type": "stream",
     "text": [
      "Processing data: 100%|██████████| 1793/1793 [00:02<00:00, 779.46it/s]\n"
     ]
    },
    {
     "name": "stdout",
     "output_type": "stream",
     "text": [
      "Saved processed data to C:\\Users\\Lenovo\\OneDrive\\NUS\\CS-24fall\\project\\AudiobookGeneration_cs5647\\Dataset_SID_001\\val.json\n"
     ]
    }
   ],
   "source": [
    "input_path = r\"C:\\Users\\Lenovo\\OneDrive\\NUS\\CS-24fall\\project\\AudiobookGeneration_cs5647\\LiteraryTextsDataset\\dataset\\processed_val.json\"\n",
    "output_path = r\"C:\\Users\\Lenovo\\OneDrive\\NUS\\CS-24fall\\project\\AudiobookGeneration_cs5647\\Dataset_SID_001\"\n",
    "preprocess_dataset(input_path, output_path)"
   ]
  },
  {
   "cell_type": "code",
   "execution_count": 11,
   "metadata": {},
   "outputs": [
    {
     "name": "stderr",
     "output_type": "stream",
     "text": [
      "Processing data:  17%|█▋        | 614/3669 [00:00<00:03, 785.42it/s]"
     ]
    },
    {
     "name": "stdout",
     "output_type": "stream",
     "text": [
      "empty valid_speaker_indices\n",
      "empty valid_speaker_indices\n"
     ]
    },
    {
     "name": "stderr",
     "output_type": "stream",
     "text": [
      "Processing data:  28%|██▊       | 1014/3669 [00:01<00:03, 782.94it/s]"
     ]
    },
    {
     "name": "stdout",
     "output_type": "stream",
     "text": [
      "empty valid_speaker_indices\n",
      "empty valid_speaker_indices\n"
     ]
    },
    {
     "name": "stderr",
     "output_type": "stream",
     "text": [
      "Processing data:  36%|███▋      | 1331/3669 [00:01<00:03, 740.06it/s]"
     ]
    },
    {
     "name": "stdout",
     "output_type": "stream",
     "text": [
      "empty valid_speaker_indices\n",
      "empty valid_speaker_indices\n"
     ]
    },
    {
     "name": "stderr",
     "output_type": "stream",
     "text": [
      "Processing data:  42%|████▏     | 1555/3669 [00:02<00:02, 721.08it/s]"
     ]
    },
    {
     "name": "stdout",
     "output_type": "stream",
     "text": [
      "empty valid_speaker_indices\n"
     ]
    },
    {
     "name": "stderr",
     "output_type": "stream",
     "text": [
      "Processing data:  53%|█████▎    | 1945/3669 [00:02<00:02, 757.12it/s]"
     ]
    },
    {
     "name": "stdout",
     "output_type": "stream",
     "text": [
      "empty valid_speaker_indices\n",
      "empty valid_speaker_indices\n",
      "empty valid_speaker_indices\n"
     ]
    },
    {
     "name": "stderr",
     "output_type": "stream",
     "text": [
      "Processing data:  57%|█████▋    | 2099/3669 [00:02<00:02, 759.13it/s]"
     ]
    },
    {
     "name": "stdout",
     "output_type": "stream",
     "text": [
      "empty valid_speaker_indices\n"
     ]
    },
    {
     "name": "stderr",
     "output_type": "stream",
     "text": [
      "Processing data:  63%|██████▎   | 2318/3669 [00:03<00:02, 633.25it/s]"
     ]
    },
    {
     "name": "stdout",
     "output_type": "stream",
     "text": [
      "empty valid_speaker_indices\n",
      "empty valid_speaker_indices\n"
     ]
    },
    {
     "name": "stderr",
     "output_type": "stream",
     "text": [
      "Processing data:  71%|███████▏  | 2619/3669 [00:03<00:01, 728.92it/s]"
     ]
    },
    {
     "name": "stdout",
     "output_type": "stream",
     "text": [
      "empty valid_speaker_indices\n",
      "empty valid_speaker_indices\n",
      "empty valid_speaker_indices\n",
      "empty valid_speaker_indices\n"
     ]
    },
    {
     "name": "stderr",
     "output_type": "stream",
     "text": [
      "Processing data:  78%|███████▊  | 2857/3669 [00:03<00:01, 760.35it/s]"
     ]
    },
    {
     "name": "stdout",
     "output_type": "stream",
     "text": [
      "empty valid_speaker_indices\n",
      "empty valid_speaker_indices\n"
     ]
    },
    {
     "name": "stderr",
     "output_type": "stream",
     "text": [
      "Processing data:  82%|████████▏ | 3018/3669 [00:04<00:00, 780.97it/s]"
     ]
    },
    {
     "name": "stdout",
     "output_type": "stream",
     "text": [
      "empty valid_speaker_indices\n",
      "empty valid_speaker_indices\n"
     ]
    },
    {
     "name": "stderr",
     "output_type": "stream",
     "text": [
      "Processing data:  91%|█████████ | 3340/3669 [00:04<00:00, 786.22it/s]"
     ]
    },
    {
     "name": "stdout",
     "output_type": "stream",
     "text": [
      "empty valid_speaker_indices\n",
      "empty valid_speaker_indices\n",
      "empty valid_speaker_indices\n"
     ]
    },
    {
     "name": "stderr",
     "output_type": "stream",
     "text": [
      "Processing data:  95%|█████████▌| 3503/3669 [00:04<00:00, 777.64it/s]"
     ]
    },
    {
     "name": "stdout",
     "output_type": "stream",
     "text": [
      "empty valid_speaker_indices\n",
      "empty valid_speaker_indices\n"
     ]
    },
    {
     "name": "stderr",
     "output_type": "stream",
     "text": [
      "Processing data: 100%|██████████| 3669/3669 [00:04<00:00, 741.64it/s]"
     ]
    },
    {
     "name": "stdout",
     "output_type": "stream",
     "text": [
      "empty valid_speaker_indices\n",
      "empty valid_speaker_indices\n"
     ]
    },
    {
     "name": "stderr",
     "output_type": "stream",
     "text": [
      "\n"
     ]
    },
    {
     "name": "stdout",
     "output_type": "stream",
     "text": [
      "Saved processed data to C:\\Users\\Lenovo\\OneDrive\\NUS\\CS-24fall\\project\\AudiobookGeneration_cs5647\\Dataset_SID_001\\test.json\n"
     ]
    }
   ],
   "source": [
    "input_path = r\"C:\\Users\\Lenovo\\OneDrive\\NUS\\CS-24fall\\project\\AudiobookGeneration_cs5647\\LiteraryTextsDataset\\dataset\\processed_test.json\"\n",
    "output_path = r\"C:\\Users\\Lenovo\\OneDrive\\NUS\\CS-24fall\\project\\AudiobookGeneration_cs5647\\Dataset_SID_001\"\n",
    "preprocess_dataset(input_path, output_path)"
   ]
  },
  {
   "cell_type": "code",
   "execution_count": 3,
   "metadata": {},
   "outputs": [
    {
     "name": "stdout",
     "output_type": "stream",
     "text": [
      "===== Dataset Report =====\n",
      "Total Training Entries: 21111\n",
      "Total Validation Entries: 1779\n",
      "Total Test Entries: 3641\n",
      "==========================\n"
     ]
    }
   ],
   "source": [
    "import os\n",
    "import json\n",
    "\n",
    "def count_entries_in_json(file_path):\n",
    "    \"\"\"\n",
    "    Counts the number of entries in a JSON file.\n",
    "    \n",
    "    Args:\n",
    "        file_path (str): Path to the JSON file.\n",
    "\n",
    "    Returns:\n",
    "        int: Number of entries in the JSON file.\n",
    "    \"\"\"\n",
    "    with open(file_path, 'r', encoding='utf-8') as f:\n",
    "        data = json.load(f)\n",
    "        return len(data)\n",
    "\n",
    "def generate_dataset_report(train_dir, test_file, val_file):\n",
    "    \"\"\"\n",
    "    Generates a report summarizing the number of entries in the dataset.\n",
    "\n",
    "    Args:\n",
    "        train_dir (str): Path to the directory containing training JSON files.\n",
    "        test_file (str): Path to the test JSON file.\n",
    "        val_file (str): Path to the validation JSON file.\n",
    "    \"\"\"\n",
    "    total_train_entries = 0\n",
    "    train_files = [f for f in os.listdir(train_dir) if f.endswith('.json')]\n",
    "\n",
    "    # Count total entries in train directory\n",
    "    for train_file in train_files:\n",
    "        train_file_path = os.path.join(train_dir, train_file)\n",
    "        entries = count_entries_in_json(train_file_path)\n",
    "        total_train_entries += entries\n",
    "\n",
    "    # Count entries in test and validation files\n",
    "    test_entries = count_entries_in_json(test_file)\n",
    "    val_entries = count_entries_in_json(val_file)\n",
    "\n",
    "    # Generate and print the report\n",
    "    print(\"===== Dataset Report =====\")\n",
    "    print(f\"Total Training Entries: {total_train_entries}\")\n",
    "    print(f\"Total Validation Entries: {val_entries}\")\n",
    "    print(f\"Total Test Entries: {test_entries}\")\n",
    "    print(\"==========================\")\n",
    "\n",
    "# Example usage\n",
    "train_dir = r\"C:\\Users\\Lenovo\\OneDrive\\NUS\\CS-24fall\\project\\AudiobookGeneration_cs5647\\Dataset_SID_001\\train\"\n",
    "val_file = r\"C:\\Users\\Lenovo\\OneDrive\\NUS\\CS-24fall\\project\\AudiobookGeneration_cs5647\\Dataset_SID_001\\val.json\"\n",
    "test_file = r\"C:\\Users\\Lenovo\\OneDrive\\NUS\\CS-24fall\\project\\AudiobookGeneration_cs5647\\Dataset_SID_001\\test.json\"\n",
    "\n",
    "generate_dataset_report(train_dir, test_file, val_file)\n"
   ]
  },
  {
   "cell_type": "code",
   "execution_count": null,
   "metadata": {},
   "outputs": [],
   "source": []
  }
 ],
 "metadata": {
  "kernelspec": {
   "display_name": "base",
   "language": "python",
   "name": "python3"
  },
  "language_info": {
   "codemirror_mode": {
    "name": "ipython",
    "version": 3
   },
   "file_extension": ".py",
   "mimetype": "text/x-python",
   "name": "python",
   "nbconvert_exporter": "python",
   "pygments_lexer": "ipython3",
   "version": "3.11.5"
  }
 },
 "nbformat": 4,
 "nbformat_minor": 2
}
