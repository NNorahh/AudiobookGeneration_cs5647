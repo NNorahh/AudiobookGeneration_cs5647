{
 "cells": [
  {
   "cell_type": "code",
   "execution_count": 2,
   "metadata": {},
   "outputs": [
    {
     "name": "stdout",
     "output_type": "stream",
     "text": [
      "章节拆分完成，并生成概览文件。\n"
     ]
    }
   ],
   "source": [
    "import os\n",
    "import re\n",
    "\n",
    "# 读取 Alice in Wonderland 的文本文件\n",
    "input_file = 'AliceInWonderland.txt'\n",
    "output_dir = 'chapters'\n",
    "\n",
    "# 创建输出目录\n",
    "if not os.path.exists(output_dir):\n",
    "    os.makedirs(output_dir)\n",
    "\n",
    "# 正则匹配章节标题，例如 \"CHAPTER I. Down the Rabbit-Hole\"\n",
    "chapter_pattern = re.compile(r'(CHAPTER [IVXLCDM]+\\..*?)(?=\\nCHAPTER|\\Z)', re.DOTALL)\n",
    "\n",
    "# 读取文本内容\n",
    "with open(input_file, 'r', encoding='utf-8') as file:\n",
    "    content = file.read()\n",
    "\n",
    "# 查找所有章节\n",
    "chapters = re.findall(chapter_pattern, content)\n",
    "\n",
    "# 创建概览文件\n",
    "overview_file = os.path.join(output_dir, 'overview.txt')\n",
    "\n",
    "with open(overview_file, 'w', encoding='utf-8') as overview:\n",
    "    for idx, chapter in enumerate(chapters, start=1):\n",
    "        # 提取章节名\n",
    "        lines = chapter.split('\\n', 1)\n",
    "        chapter_title = lines[0].strip()\n",
    "        \n",
    "        # 保存章节内容到单独的 txt 文件\n",
    "        chapter_file = os.path.join(output_dir, f'{idx}.txt')\n",
    "        with open(chapter_file, 'w', encoding='utf-8') as chapter_out:\n",
    "            chapter_out.write(chapter.strip())\n",
    "        \n",
    "        # 写入概览\n",
    "        overview.write(f'{idx}: {chapter_title}\\n')\n",
    "\n",
    "print(\"章节拆分完成，并生成概览文件。\")\n"
   ]
  },
  {
   "cell_type": "code",
   "execution_count": null,
   "metadata": {},
   "outputs": [],
   "source": []
  }
 ],
 "metadata": {
  "kernelspec": {
   "display_name": "audiobook",
   "language": "python",
   "name": "python3"
  },
  "language_info": {
   "codemirror_mode": {
    "name": "ipython",
    "version": 3
   },
   "file_extension": ".py",
   "mimetype": "text/x-python",
   "name": "python",
   "nbconvert_exporter": "python",
   "pygments_lexer": "ipython3",
   "version": "3.13.0"
  }
 },
 "nbformat": 4,
 "nbformat_minor": 2
}
