{
 "cells": [
  {
   "cell_type": "code",
   "execution_count": 2,
   "metadata": {},
   "outputs": [
    {
     "name": "stdout",
     "output_type": "stream",
     "text": [
      "角色信息已成功写入到 ./characters/1.json\n"
     ]
    }
   ],
   "source": [
    "import json\n",
    "import os\n",
    "\n",
    "# 定义输入和输出文件路径\n",
    "input_file_path = './json/1.json'\n",
    "output_file_path = './characters/1.json'\n",
    "\n",
    "# 读取 JSON 数据\n",
    "with open(input_file_path, 'r', encoding='utf-8') as file:\n",
    "    subtitle_data = json.load(file)\n",
    "\n",
    "# 使用字典来存储角色名和颜色，以确保唯一性\n",
    "characters = {}\n",
    "\n",
    "# 遍历字幕数据，提取角色信息\n",
    "for item in subtitle_data:\n",
    "    speaker_info = item['speaker']\n",
    "    character_name = speaker_info['speaker_name']\n",
    "    character_color = speaker_info['speaker_color']\n",
    "    \n",
    "    # 将角色信息存入字典，以角色名作为键，确保每个角色只添加一次\n",
    "    if character_name not in characters:\n",
    "        characters[character_name] = {\n",
    "            \"character_name\": character_name,\n",
    "            \"character_color\": character_color\n",
    "        }\n",
    "\n",
    "# 将字典的值转换为列表，以便写入 JSON 文件\n",
    "character_list = list(characters.values())\n",
    "\n",
    "# 确保输出目录存在\n",
    "os.makedirs(os.path.dirname(output_file_path), exist_ok=True)\n",
    "\n",
    "# 将角色信息写入输出文件\n",
    "with open(output_file_path, 'w', encoding='utf-8') as output_file:\n",
    "    json.dump(character_list, output_file, indent=4, ensure_ascii=False)\n",
    "\n",
    "print(f\"角色信息已成功写入到 {output_file_path}\")"
   ]
  },
  {
   "cell_type": "code",
   "execution_count": null,
   "metadata": {},
   "outputs": [],
   "source": []
  }
 ],
 "metadata": {
  "kernelspec": {
   "display_name": "audiobook",
   "language": "python",
   "name": "python3"
  },
  "language_info": {
   "codemirror_mode": {
    "name": "ipython",
    "version": 3
   },
   "file_extension": ".py",
   "mimetype": "text/x-python",
   "name": "python",
   "nbconvert_exporter": "python",
   "pygments_lexer": "ipython3",
   "version": "3.13.0"
  }
 },
 "nbformat": 4,
 "nbformat_minor": 2
}
